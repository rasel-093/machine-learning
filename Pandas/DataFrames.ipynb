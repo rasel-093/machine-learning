{
 "cells": [
  {
   "cell_type": "code",
   "execution_count": 1,
   "id": "4aebc817-22f1-4e7d-bf7f-fff5a6ee1aa8",
   "metadata": {},
   "outputs": [],
   "source": [
    "import pandas as pd"
   ]
  },
  {
   "cell_type": "code",
   "execution_count": 3,
   "id": "1b57227a",
   "metadata": {},
   "outputs": [
    {
     "name": "stdout",
     "output_type": "stream",
     "text": [
      "   0\n",
      "0  1\n",
      "1  2\n",
      "2  3\n",
      "3  4\n",
      "4  5\n",
      "5  6\n",
      "6  7\n",
      "7  8\n",
      "<class 'pandas.core.frame.DataFrame'>\n"
     ]
    }
   ],
   "source": [
    "#List to DataFrame\n",
    "ls = [1,2,3,4,5,6,7,8]\n",
    "var = pd.DataFrame(ls)\n",
    "print(var)\n",
    "print(type(var))"
   ]
  },
  {
   "cell_type": "code",
   "execution_count": 7,
   "id": "dbe6f54c",
   "metadata": {},
   "outputs": [
    {
     "name": "stdout",
     "output_type": "stream",
     "text": [
      "   a\n",
      "0  1\n",
      "1  2\n",
      "2  3\n",
      "3  4\n"
     ]
    }
   ],
   "source": [
    "#Dictionary to DataFrame\n",
    "dic = {\"a\": [1,2,3,4], \"b\":[1,2,3,4]}   #Number of elements of each attribute must be same\n",
    "# dicToDF = pd.DataFrame(dic) #all columns are considered\n",
    "dicToDF = pd.DataFrame(dic, columns=[\"a\"]) #Only column a will be considered\n",
    "print(dicToDF)"
   ]
  },
  {
   "cell_type": "code",
   "execution_count": 8,
   "id": "284e5e8b",
   "metadata": {},
   "outputs": [
    {
     "name": "stdout",
     "output_type": "stream",
     "text": [
      "3\n"
     ]
    }
   ],
   "source": [
    "#DataFrame Indexing\n",
    "print(dicToDF[\"a\"][2])"
   ]
  },
  {
   "cell_type": "code",
   "execution_count": 11,
   "id": "84eb0d91",
   "metadata": {},
   "outputs": [
    {
     "name": "stdout",
     "output_type": "stream",
     "text": [
      "    0   1   2   3   4    5\n",
      "0   1   2   3   4   5  6.0\n",
      "1  10  11  12  13  14  NaN\n"
     ]
    }
   ],
   "source": [
    "#2D list to dictionary\n",
    "ls = [[1,2,3,4,5,6],[10,11,12,13,14]]\n",
    "lsToDF = pd.DataFrame(ls)\n",
    "print(lsToDF)"
   ]
  },
  {
   "cell_type": "code",
   "execution_count": 13,
   "id": "a1c5ee09",
   "metadata": {},
   "outputs": [
    {
     "name": "stdout",
     "output_type": "stream",
     "text": [
      "   s  r\n",
      "0  1  6\n",
      "1  2  7\n",
      "2  3  8\n",
      "3  4  9\n"
     ]
    }
   ],
   "source": [
    "#Series to DataFrame\n",
    "sr = {\"s\": pd.Series([1,2,3,4]), \"r\": pd.Series([6,7,8,9])}\n",
    "srToDF = pd.DataFrame(sr)\n",
    "print(srToDF)"
   ]
  },
  {
   "cell_type": "markdown",
   "id": "e6c5937f",
   "metadata": {},
   "source": [
    "Arithmetic Operations"
   ]
  },
  {
   "cell_type": "code",
   "execution_count": 21,
   "id": "a55af102",
   "metadata": {},
   "outputs": [
    {
     "data": {
      "text/html": [
       "<div>\n",
       "<style scoped>\n",
       "    .dataframe tbody tr th:only-of-type {\n",
       "        vertical-align: middle;\n",
       "    }\n",
       "\n",
       "    .dataframe tbody tr th {\n",
       "        vertical-align: top;\n",
       "    }\n",
       "\n",
       "    .dataframe thead th {\n",
       "        text-align: right;\n",
       "    }\n",
       "</style>\n",
       "<table border=\"1\" class=\"dataframe\">\n",
       "  <thead>\n",
       "    <tr style=\"text-align: right;\">\n",
       "      <th></th>\n",
       "      <th>A</th>\n",
       "      <th>B</th>\n",
       "    </tr>\n",
       "  </thead>\n",
       "  <tbody>\n",
       "    <tr>\n",
       "      <th>0</th>\n",
       "      <td>1</td>\n",
       "      <td>5</td>\n",
       "    </tr>\n",
       "    <tr>\n",
       "      <th>1</th>\n",
       "      <td>2</td>\n",
       "      <td>6</td>\n",
       "    </tr>\n",
       "    <tr>\n",
       "      <th>2</th>\n",
       "      <td>3</td>\n",
       "      <td>7</td>\n",
       "    </tr>\n",
       "    <tr>\n",
       "      <th>3</th>\n",
       "      <td>4</td>\n",
       "      <td>8</td>\n",
       "    </tr>\n",
       "  </tbody>\n",
       "</table>\n",
       "</div>"
      ],
      "text/plain": [
       "   A  B\n",
       "0  1  5\n",
       "1  2  6\n",
       "2  3  7\n",
       "3  4  8"
      ]
     },
     "execution_count": 21,
     "metadata": {},
     "output_type": "execute_result"
    }
   ],
   "source": [
    "var = pd.DataFrame({\"A\": [1,2,3,4], \"B\": [5,6,7,8]})\n",
    "var"
   ]
  },
  {
   "cell_type": "code",
   "execution_count": 22,
   "id": "bb11feaf",
   "metadata": {},
   "outputs": [
    {
     "name": "stdout",
     "output_type": "stream",
     "text": [
      "   A  B  Sum\n",
      "0  1  5    6\n",
      "1  2  6    8\n",
      "2  3  7   10\n",
      "3  4  8   12\n"
     ]
    }
   ],
   "source": [
    "var[\"Sum\"] = var[\"A\"] + var[\"B\"]\n",
    "print(var)"
   ]
  },
  {
   "cell_type": "code",
   "execution_count": 23,
   "id": "5c96098b",
   "metadata": {},
   "outputs": [
    {
     "name": "stdout",
     "output_type": "stream",
     "text": [
      "   A  B  Sum  Sum_Status\n",
      "0  1  5    6       False\n",
      "1  2  6    8        True\n",
      "2  3  7   10        True\n",
      "3  4  8   12        True\n"
     ]
    }
   ],
   "source": [
    "#condition -> Sum is greater than or equal 8\n",
    "var[\"Sum_Status\"] = var[\"Sum\"] >= 8\n",
    "print(var)\n"
   ]
  },
  {
   "cell_type": "code",
   "execution_count": 25,
   "id": "015dcf44",
   "metadata": {},
   "outputs": [
    {
     "name": "stdout",
     "output_type": "stream",
     "text": [
      "   A  B\n",
      "0  1  5\n",
      "1  2  6\n",
      "2  3  7\n",
      "3  4  8\n"
     ]
    }
   ],
   "source": [
    "var = pd.DataFrame({\"A\": [1,2,3,4], \"B\": [5,6,7,8]})\n",
    "print(var)"
   ]
  },
  {
   "cell_type": "markdown",
   "id": "fa62b160",
   "metadata": {},
   "source": [
    "Data Insertion"
   ]
  },
  {
   "cell_type": "code",
   "execution_count": 26,
   "id": "6f131317",
   "metadata": {},
   "outputs": [
    {
     "name": "stdout",
     "output_type": "stream",
     "text": [
      "   A  B  sum\n",
      "0  1  5    6\n",
      "1  2  6    8\n",
      "2  3  7   10\n",
      "3  4  8   12\n"
     ]
    }
   ],
   "source": [
    "var.insert(2,\"sum\",(var[\"A\"]+var[\"B\"]))     #insert(index , \"Column name\", list) #list size must be same as other column\n",
    "print(var)"
   ]
  },
  {
   "cell_type": "code",
   "execution_count": 27,
   "id": "cafe83ad",
   "metadata": {},
   "outputs": [
    {
     "name": "stdout",
     "output_type": "stream",
     "text": [
      "   A  B  sum  New Column\n",
      "0  1  5    6         1.0\n",
      "1  2  6    8         2.0\n",
      "2  3  7   10         3.0\n",
      "3  4  8   12         NaN\n"
     ]
    }
   ],
   "source": [
    "var[\"New Column\"] = var[\"A\"][:3]\n",
    "print(var)"
   ]
  },
  {
   "cell_type": "markdown",
   "id": "8a529c7a",
   "metadata": {},
   "source": [
    "Data deletion"
   ]
  },
  {
   "cell_type": "code",
   "execution_count": 29,
   "id": "e5930689",
   "metadata": {},
   "outputs": [
    {
     "name": "stdout",
     "output_type": "stream",
     "text": [
      "0     6\n",
      "1     8\n",
      "2    10\n",
      "3    12\n",
      "Name: sum, dtype: int64\n",
      "   A  B  New Column\n",
      "0  1  5         1.0\n",
      "1  2  6         2.0\n",
      "2  3  7         3.0\n",
      "3  4  8         NaN\n"
     ]
    }
   ],
   "source": [
    "#Using pop function\n",
    "sum = var.pop(\"sum\")\n",
    "print(sum)\n",
    "print(var)"
   ]
  },
  {
   "cell_type": "code",
   "execution_count": 30,
   "id": "13a49538",
   "metadata": {},
   "outputs": [
    {
     "name": "stdout",
     "output_type": "stream",
     "text": [
      "   A  B\n",
      "0  1  5\n",
      "1  2  6\n",
      "2  3  7\n",
      "3  4  8\n"
     ]
    }
   ],
   "source": [
    "#Using del\n",
    "del var[\"New Column\"]\n",
    "print(var)"
   ]
  },
  {
   "cell_type": "code",
   "execution_count": null,
   "id": "71a19a19",
   "metadata": {},
   "outputs": [],
   "source": []
  }
 ],
 "metadata": {
  "kernelspec": {
   "display_name": "Python 3 (ipykernel)",
   "language": "python",
   "name": "python3"
  },
  "language_info": {
   "codemirror_mode": {
    "name": "ipython",
    "version": 3
   },
   "file_extension": ".py",
   "mimetype": "text/x-python",
   "name": "python",
   "nbconvert_exporter": "python",
   "pygments_lexer": "ipython3",
   "version": "3.12.0"
  }
 },
 "nbformat": 4,
 "nbformat_minor": 5
}
