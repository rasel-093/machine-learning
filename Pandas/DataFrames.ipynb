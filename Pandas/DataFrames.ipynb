{
 "cells": [
  {
   "cell_type": "code",
   "execution_count": 1,
   "id": "4aebc817-22f1-4e7d-bf7f-fff5a6ee1aa8",
   "metadata": {},
   "outputs": [],
   "source": [
    "import pandas as pd"
   ]
  },
  {
   "cell_type": "code",
   "execution_count": 3,
   "id": "1b57227a",
   "metadata": {},
   "outputs": [
    {
     "name": "stdout",
     "output_type": "stream",
     "text": [
      "   0\n",
      "0  1\n",
      "1  2\n",
      "2  3\n",
      "3  4\n",
      "4  5\n",
      "5  6\n",
      "6  7\n",
      "7  8\n",
      "<class 'pandas.core.frame.DataFrame'>\n"
     ]
    }
   ],
   "source": [
    "#List to DataFrame\n",
    "ls = [1,2,3,4,5,6,7,8]\n",
    "var = pd.DataFrame(ls)\n",
    "print(var)\n",
    "print(type(var))"
   ]
  },
  {
   "cell_type": "code",
   "execution_count": 7,
   "id": "dbe6f54c",
   "metadata": {},
   "outputs": [
    {
     "name": "stdout",
     "output_type": "stream",
     "text": [
      "   a\n",
      "0  1\n",
      "1  2\n",
      "2  3\n",
      "3  4\n"
     ]
    }
   ],
   "source": [
    "#Dictionary to DataFrame\n",
    "dic = {\"a\": [1,2,3,4], \"b\":[1,2,3,4]}   #Number of elements of each attribute must be same\n",
    "# dicToDF = pd.DataFrame(dic) #all columns are considered\n",
    "dicToDF = pd.DataFrame(dic, columns=[\"a\"]) #Only column a will be considered\n",
    "print(dicToDF)"
   ]
  },
  {
   "cell_type": "code",
   "execution_count": 8,
   "id": "284e5e8b",
   "metadata": {},
   "outputs": [
    {
     "name": "stdout",
     "output_type": "stream",
     "text": [
      "3\n"
     ]
    }
   ],
   "source": [
    "#DataFrame Indexing\n",
    "print(dicToDF[\"a\"][2])"
   ]
  },
  {
   "cell_type": "code",
   "execution_count": 11,
   "id": "84eb0d91",
   "metadata": {},
   "outputs": [
    {
     "name": "stdout",
     "output_type": "stream",
     "text": [
      "    0   1   2   3   4    5\n",
      "0   1   2   3   4   5  6.0\n",
      "1  10  11  12  13  14  NaN\n"
     ]
    }
   ],
   "source": [
    "#2D list to dictionary\n",
    "ls = [[1,2,3,4,5,6],[10,11,12,13,14]]\n",
    "lsToDF = pd.DataFrame(ls)\n",
    "print(lsToDF)"
   ]
  },
  {
   "cell_type": "code",
   "execution_count": 12,
   "id": "a1c5ee09",
   "metadata": {},
   "outputs": [
    {
     "name": "stdout",
     "output_type": "stream",
     "text": [
      "   s  r\n",
      "0  1  6\n",
      "1  2  7\n",
      "2  3  8\n",
      "3  4  9\n"
     ]
    }
   ],
   "source": [
    "#Series to DataFrame\n",
    "sr = {\"s\": pd.Series([1,2,3,4]), \"r\": pd.Series([6,7,8,9])}\n",
    "srToDF = pd.DataFrame(sr)\n",
    "print(srToDF)"
   ]
  }
 ],
 "metadata": {
  "kernelspec": {
   "display_name": "Python 3 (ipykernel)",
   "language": "python",
   "name": "python3"
  },
  "language_info": {
   "codemirror_mode": {
    "name": "ipython",
    "version": 3
   },
   "file_extension": ".py",
   "mimetype": "text/x-python",
   "name": "python",
   "nbconvert_exporter": "python",
   "pygments_lexer": "ipython3",
   "version": "3.12.0"
  }
 },
 "nbformat": 4,
 "nbformat_minor": 5
}
