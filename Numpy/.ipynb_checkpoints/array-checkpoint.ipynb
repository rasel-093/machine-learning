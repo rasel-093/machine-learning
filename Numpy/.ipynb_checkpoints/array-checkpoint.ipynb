{
 "cells": [
  {
   "cell_type": "raw",
   "id": "0a410613-1e35-480d-8a24-b276a4d0c3e4",
   "metadata": {},
   "source": [
    "import numpy as np"
   ]
  },
  {
   "cell_type": "code",
   "execution_count": 19,
   "id": "af37c589-df5f-47df-9d60-afd5d94f14ab",
   "metadata": {},
   "outputs": [
    {
     "name": "stdout",
     "output_type": "stream",
     "text": [
      "[1 2 3]\n"
     ]
    }
   ],
   "source": [
    "a = np.array([1,2,3], dtype = 'int16')\n",
    "print(a)"
   ]
  },
  {
   "cell_type": "code",
   "execution_count": 8,
   "id": "49cfb90e-0cc1-45a6-bdbb-74677cd8abb8",
   "metadata": {},
   "outputs": [
    {
     "name": "stdout",
     "output_type": "stream",
     "text": [
      "[[1 2 3]\n",
      " [4 5 6]]\n"
     ]
    }
   ],
   "source": [
    "b = np.array([[1,2,3], [4,5,6]])\n",
    "print(b)"
   ]
  },
  {
   "cell_type": "code",
   "execution_count": 12,
   "id": "136af6f9-002e-4f48-b53f-0daea458f9ce",
   "metadata": {
    "scrolled": true
   },
   "outputs": [
    {
     "data": {
      "text/plain": [
       "1"
      ]
     },
     "execution_count": 12,
     "metadata": {},
     "output_type": "execute_result"
    }
   ],
   "source": [
    "a.ndim #results 1"
   ]
  },
  {
   "cell_type": "markdown",
   "id": "6e14cf7f-794f-4b9c-8892-de4ec36ff00c",
   "metadata": {},
   "source": [
    "Get dimension of b"
   ]
  },
  {
   "cell_type": "code",
   "execution_count": 13,
   "id": "37264b1b-5ee4-48d5-8fda-1934426a258a",
   "metadata": {},
   "outputs": [
    {
     "data": {
      "text/plain": [
       "2"
      ]
     },
     "execution_count": 13,
     "metadata": {},
     "output_type": "execute_result"
    }
   ],
   "source": [
    "b.ndim #results 2"
   ]
  },
  {
   "cell_type": "markdown",
   "id": "32483235-2e51-4b15-a98c-c6ef9567dc02",
   "metadata": {},
   "source": [
    "Get Shape"
   ]
  },
  {
   "cell_type": "code",
   "execution_count": 14,
   "id": "20dbfc7f-5b7a-4623-986e-86456d2e6745",
   "metadata": {},
   "outputs": [
    {
     "data": {
      "text/plain": [
       "(3,)"
      ]
     },
     "execution_count": 14,
     "metadata": {},
     "output_type": "execute_result"
    }
   ],
   "source": [
    "a.shape"
   ]
  },
  {
   "cell_type": "code",
   "execution_count": 15,
   "id": "8b745d92-560d-471c-a7aa-8ec2944b104a",
   "metadata": {},
   "outputs": [
    {
     "data": {
      "text/plain": [
       "(2, 3)"
      ]
     },
     "execution_count": 15,
     "metadata": {},
     "output_type": "execute_result"
    }
   ],
   "source": [
    "b.shape"
   ]
  },
  {
   "cell_type": "markdown",
   "id": "5bab3591-ff68-4c82-be53-ca538bd512f5",
   "metadata": {},
   "source": [
    "Get type"
   ]
  },
  {
   "cell_type": "code",
   "execution_count": 20,
   "id": "76e13ead-56c3-4a04-b238-6b3def537bda",
   "metadata": {},
   "outputs": [
    {
     "data": {
      "text/plain": [
       "dtype('int16')"
      ]
     },
     "execution_count": 20,
     "metadata": {},
     "output_type": "execute_result"
    }
   ],
   "source": [
    "a.dtype"
   ]
  },
  {
   "cell_type": "markdown",
   "id": "ad957077-1e87-45c6-af36-bfcd8e589176",
   "metadata": {},
   "source": [
    "Get size -> In bytes"
   ]
  },
  {
   "cell_type": "code",
   "execution_count": 23,
   "id": "b26e482d-ee41-4381-ab9d-57f7b81224f9",
   "metadata": {},
   "outputs": [
    {
     "data": {
      "text/plain": [
       "2"
      ]
     },
     "execution_count": 23,
     "metadata": {},
     "output_type": "execute_result"
    }
   ],
   "source": [
    "a.itemsize"
   ]
  },
  {
   "cell_type": "code",
   "execution_count": 24,
   "id": "b3e12ee3-dbb2-4eba-ae71-b0096a325584",
   "metadata": {},
   "outputs": [
    {
     "data": {
      "text/plain": [
       "4"
      ]
     },
     "execution_count": 24,
     "metadata": {},
     "output_type": "execute_result"
    }
   ],
   "source": [
    "b.itemsize"
   ]
  },
  {
   "cell_type": "markdown",
   "id": "88bf86ee-c515-4820-80d6-c7998498be20",
   "metadata": {},
   "source": [
    "Get total size"
   ]
  },
  {
   "cell_type": "code",
   "execution_count": 27,
   "id": "a405c206-d898-4bbe-85a0-9da85680f169",
   "metadata": {},
   "outputs": [
    {
     "data": {
      "text/plain": [
       "6"
      ]
     },
     "execution_count": 27,
     "metadata": {},
     "output_type": "execute_result"
    }
   ],
   "source": [
    "a.itemsize*a.size\n",
    "# a.nbytes does the same"
   ]
  },
  {
   "cell_type": "code",
   "execution_count": 28,
   "id": "f999b470-8af2-4704-9ab1-bb80478a1445",
   "metadata": {},
   "outputs": [
    {
     "data": {
      "text/plain": [
       "24"
      ]
     },
     "execution_count": 28,
     "metadata": {},
     "output_type": "execute_result"
    }
   ],
   "source": [
    "b.nbytes"
   ]
  },
  {
   "cell_type": "markdown",
   "id": "702aad7e-09f1-48c8-a8d4-c22b838c4f8c",
   "metadata": {},
   "source": [
    "Accessing Array elements, rows, columns etc"
   ]
  },
  {
   "cell_type": "code",
   "execution_count": 34,
   "id": "91ad29bf-268f-4d0d-8efe-bc888e3bc766",
   "metadata": {},
   "outputs": [
    {
     "name": "stdout",
     "output_type": "stream",
     "text": [
      "[[12 23 34  5  3 54  2]\n",
      " [ 2  3  4 34  5 64 23]]\n"
     ]
    },
    {
     "data": {
      "text/plain": [
       "(2, 7)"
      ]
     },
     "execution_count": 34,
     "metadata": {},
     "output_type": "execute_result"
    }
   ],
   "source": [
    "a = np.array([[12,23,34,5,3,54,2], [2,3,4,34,5,64,23]])\n",
    "print(a)\n",
    "a.size\n",
    "a.shape"
   ]
  },
  {
   "cell_type": "code",
   "execution_count": 37,
   "id": "e8179aab-2897-41de-910c-c3dc72636a1e",
   "metadata": {},
   "outputs": [
    {
     "data": {
      "text/plain": [
       "54"
      ]
     },
     "execution_count": 37,
     "metadata": {},
     "output_type": "execute_result"
    }
   ],
   "source": [
    "#Get a specific element\n",
    "a[0,3]\n",
    "a[0,-2] #Prints the 2nd last element of 0th row"
   ]
  },
  {
   "cell_type": "code",
   "execution_count": 38,
   "id": "3502d87d-e9d7-4838-9e43-44c0853aae19",
   "metadata": {},
   "outputs": [
    {
     "data": {
      "text/plain": [
       "array([12, 23, 34,  5,  3, 54,  2])"
      ]
     },
     "execution_count": 38,
     "metadata": {},
     "output_type": "execute_result"
    }
   ],
   "source": [
    "#Get a specific row\n",
    "a[0, :]"
   ]
  },
  {
   "cell_type": "code",
   "execution_count": 39,
   "id": "25e7777d-c42f-4fbe-923f-31f462027ca2",
   "metadata": {},
   "outputs": [
    {
     "data": {
      "text/plain": [
       "array([12,  2])"
      ]
     },
     "execution_count": 39,
     "metadata": {},
     "output_type": "execute_result"
    }
   ],
   "source": [
    "#Get a specific column\n",
    "a[:,0]"
   ]
  },
  {
   "cell_type": "code",
   "execution_count": 43,
   "id": "d62b0b13-3cc9-4ed7-9f0e-c220d810bcbc",
   "metadata": {},
   "outputs": [
    {
     "data": {
      "text/plain": [
       "array([23,  5, 54])"
      ]
     },
     "execution_count": 43,
     "metadata": {},
     "output_type": "execute_result"
    }
   ],
   "source": [
    "#Getting [startIndex:EndIndex:stepSize]\n",
    "a[0, 1:6:2]"
   ]
  },
  {
   "cell_type": "code",
   "execution_count": 45,
   "id": "61a857ce-9293-4d09-a376-8fdc65758686",
   "metadata": {},
   "outputs": [
    {
     "name": "stdout",
     "output_type": "stream",
     "text": [
      "[[12 23 34 25  3 54  2]\n",
      " [ 2  3  4 34  5 64 23]]\n"
     ]
    }
   ],
   "source": [
    "#Updating single element\n",
    "a[0,3] = 25\n",
    "print(a)"
   ]
  },
  {
   "cell_type": "code",
   "execution_count": 47,
   "id": "a5b507ba-0766-41d0-973b-08b0a28e20b0",
   "metadata": {},
   "outputs": [
    {
     "name": "stdout",
     "output_type": "stream",
     "text": [
      "[[12 23  5 25  3 54  2]\n",
      " [ 2  3  5 34  5 64 23]]\n"
     ]
    }
   ],
   "source": [
    "#Updating all column elements with same values\n",
    "a[:, 2] = 5 # Updates the elements of 3rd column\n",
    "print(a)"
   ]
  },
  {
   "cell_type": "code",
   "execution_count": 48,
   "id": "179779e0-42b3-473b-9841-c4e175e47684",
   "metadata": {},
   "outputs": [
    {
     "name": "stdout",
     "output_type": "stream",
     "text": [
      "[[12 23  5  7  3 54  2]\n",
      " [ 2  3  5  8  5 64 23]]\n"
     ]
    }
   ],
   "source": [
    "#Updating all column elements with different values\n",
    "a[:, 3] = [7, 8]\n",
    "print(a)"
   ]
  },
  {
   "cell_type": "markdown",
   "id": "ffdd4ffb-2a40-4be8-be56-fea9deb10eff",
   "metadata": {},
   "source": [
    "3D array"
   ]
  },
  {
   "cell_type": "code",
   "execution_count": 50,
   "id": "8e670b8b-27e1-4cb6-85bb-0904132ad2a6",
   "metadata": {},
   "outputs": [
    {
     "name": "stdout",
     "output_type": "stream",
     "text": [
      "[[[2 3]\n",
      "  [5 6]]\n",
      "\n",
      " [[7 6]\n",
      "  [8 9]]]\n"
     ]
    }
   ],
   "source": [
    "c = np.array([[[2,3],[5,6]],[[7,6],[8,9]]])\n",
    "print(c)"
   ]
  },
  {
   "cell_type": "code",
   "execution_count": 53,
   "id": "fd40a7de-035a-4dc1-9762-d0c869496985",
   "metadata": {},
   "outputs": [
    {
     "data": {
      "text/plain": [
       "3"
      ]
     },
     "execution_count": 53,
     "metadata": {},
     "output_type": "execute_result"
    }
   ],
   "source": [
    "c.shape\n",
    "c.ndim"
   ]
  },
  {
   "cell_type": "code",
   "execution_count": 54,
   "id": "cc14f8cb-5570-4780-9450-fec30dfc9511",
   "metadata": {},
   "outputs": [
    {
     "data": {
      "text/plain": [
       "5"
      ]
     },
     "execution_count": 54,
     "metadata": {},
     "output_type": "execute_result"
    }
   ],
   "source": [
    "#Get specific element\n",
    "c[0,1,0]"
   ]
  },
  {
   "cell_type": "code",
   "execution_count": 60,
   "id": "be7e49dd-a6c7-4196-8323-7310566fcc65",
   "metadata": {},
   "outputs": [
    {
     "name": "stdout",
     "output_type": "stream",
     "text": [
      "[[0. 0.]\n",
      " [0. 0.]\n",
      " [0. 0.]\n",
      " [0. 0.]\n",
      " [0. 0.]]\n"
     ]
    }
   ],
   "source": [
    "#All 0s matrix\n",
    "d = np.zeros(5)\n",
    "d = np.zeros((5,2)) #5 rows, 2 columns\n",
    "print(d)"
   ]
  },
  {
   "cell_type": "code",
   "execution_count": 62,
   "id": "b24d68e4-a9ed-4903-9e74-5932a6c40ac7",
   "metadata": {},
   "outputs": [
    {
     "name": "stdout",
     "output_type": "stream",
     "text": [
      "[[1. 1.]\n",
      " [1. 1.]\n",
      " [1. 1.]]\n"
     ]
    }
   ],
   "source": [
    "#All 1s matrix\n",
    "d = np.ones((3,2))\n",
    "print(d)"
   ]
  },
  {
   "cell_type": "code",
   "execution_count": null,
   "id": "6210848e-845e-4bea-aab9-ef86d2ea5043",
   "metadata": {},
   "outputs": [],
   "source": []
  }
 ],
 "metadata": {
  "kernelspec": {
   "display_name": "Python 3 (ipykernel)",
   "language": "python",
   "name": "python3"
  },
  "language_info": {
   "codemirror_mode": {
    "name": "ipython",
    "version": 3
   },
   "file_extension": ".py",
   "mimetype": "text/x-python",
   "name": "python",
   "nbconvert_exporter": "python",
   "pygments_lexer": "ipython3",
   "version": "3.11.7"
  }
 },
 "nbformat": 4,
 "nbformat_minor": 5
}
