{
 "cells": [
  {
   "cell_type": "code",
   "execution_count": 3,
   "id": "e9bcb054-34f2-4f2b-8353-ca9ca0ea313b",
   "metadata": {},
   "outputs": [],
   "source": [
    "import numpy as np"
   ]
  },
  {
   "cell_type": "markdown",
   "id": "de609c3f-16bb-4049-b6c3-bd408fd2832c",
   "metadata": {},
   "source": [
    "Load data from file"
   ]
  },
  {
   "cell_type": "code",
   "execution_count": 7,
   "id": "a216c5e0-5e99-4f17-8e86-24a6345d1373",
   "metadata": {},
   "outputs": [
    {
     "name": "stdout",
     "output_type": "stream",
     "text": [
      "[ 1  2  3  4  6  4 35  1  5  6  2  2  5  6  7 88  3]\n"
     ]
    }
   ],
   "source": [
    "filedata = np.genfromtxt('data.txt',delimiter=',')\n",
    "filedata = filedata.astype('int32')\n",
    "print(filedata)"
   ]
  },
  {
   "cell_type": "markdown",
   "id": "ac4e61e2-30e0-4b56-a0b0-0c2cecaeb160",
   "metadata": {},
   "source": [
    "Boolean masking and advanced indexing"
   ]
  },
  {
   "cell_type": "code",
   "execution_count": 8,
   "id": "3350923c-871d-4aea-874c-6f642ff63857",
   "metadata": {},
   "outputs": [
    {
     "data": {
      "text/plain": [
       "array([False, False, False, False, False, False, False, False, False,\n",
       "       False, False, False, False, False, False,  True, False])"
      ]
     },
     "execution_count": 8,
     "metadata": {},
     "output_type": "execute_result"
    }
   ],
   "source": [
    "filedata > 50 #Prints true or false based on condition"
   ]
  },
  {
   "cell_type": "code",
   "execution_count": 12,
   "id": "779a92e6-d917-43e8-8a12-1f84e00d673d",
   "metadata": {},
   "outputs": [
    {
     "data": {
      "text/plain": [
       "array([35, 88])"
      ]
     },
     "execution_count": 12,
     "metadata": {},
     "output_type": "execute_result"
    }
   ],
   "source": [
    "filedata[filedata > 10] # Prints an array of the values matching condition"
   ]
  },
  {
   "cell_type": "code",
   "execution_count": 15,
   "id": "53fedb1d-8cee-42c3-a7c9-7e758233ec7e",
   "metadata": {},
   "outputs": [
    {
     "data": {
      "text/plain": [
       "array([3, 5, 7])"
      ]
     },
     "execution_count": 15,
     "metadata": {},
     "output_type": "execute_result"
    }
   ],
   "source": [
    "#Index with a list\n",
    "a = np.array([1,2,3,4,5,6,7,8,9])\n",
    "indexList = [2,4,6]\n",
    "#a[[1,2,5]] #Prints an array of postion 1,2,5\n",
    "a[indexList]"
   ]
  },
  {
   "cell_type": "code",
   "execution_count": 16,
   "id": "3625633b-634f-4664-9fd8-4ba840e0c678",
   "metadata": {},
   "outputs": [
    {
     "data": {
      "text/plain": [
       "array([35])"
      ]
     },
     "execution_count": 16,
     "metadata": {},
     "output_type": "execute_result"
    }
   ],
   "source": [
    "#\n",
    "filedata[((filedata>10) & (filedata<50))]"
   ]
  },
  {
   "cell_type": "code",
   "execution_count": 25,
   "id": "490e9067-560e-4560-9b5c-c53232beb6b2",
   "metadata": {},
   "outputs": [
    {
     "name": "stdout",
     "output_type": "stream",
     "text": [
      "[1 2 4 5 6 7]\n"
     ]
    }
   ],
   "source": [
    "#Saving file\n",
    "arr = np.array([1,2,4,5,6,7])\n",
    "np.save(\"TestFileOp.npy\", arr)\n",
    "b = np.load(\"TestFileOp.npy\")\n",
    "print(b)"
   ]
  },
  {
   "cell_type": "code",
   "execution_count": 23,
   "id": "fccd6d42-1daa-4876-9962-472b24cc47ef",
   "metadata": {},
   "outputs": [],
   "source": [
    "np.savetxt(\"output.csv\", a, delimiter = \",\")"
   ]
  },
  {
   "cell_type": "code",
   "execution_count": null,
   "id": "144d37b2-d690-44fa-a22b-53a2d5216087",
   "metadata": {},
   "outputs": [],
   "source": [
    "b = np.loadtxt(\"output.csv\", a, delimiter = \",\")"
   ]
  }
 ],
 "metadata": {
  "kernelspec": {
   "display_name": "Python 3 (ipykernel)",
   "language": "python",
   "name": "python3"
  },
  "language_info": {
   "codemirror_mode": {
    "name": "ipython",
    "version": 3
   },
   "file_extension": ".py",
   "mimetype": "text/x-python",
   "name": "python",
   "nbconvert_exporter": "python",
   "pygments_lexer": "ipython3",
   "version": "3.11.7"
  }
 },
 "nbformat": 4,
 "nbformat_minor": 5
}
